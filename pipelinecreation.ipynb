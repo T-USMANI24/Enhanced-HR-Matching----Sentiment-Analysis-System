{
 "cells": [
  {
   "cell_type": "code",
   "execution_count": 1,
   "id": "e9883453-83e8-4182-a454-e52c7f809e78",
   "metadata": {},
   "outputs": [
    {
     "name": "stdout",
     "output_type": "stream",
     "text": [
      "✅ Folder structure and base files created successfully!\n"
     ]
    }
   ],
   "source": [
    "import os\n",
    "\n",
    "# Define main folders and subfolders\n",
    "folders = [\n",
    "    \"data/sample_cvs\",\n",
    "    \"data/sample_jds\",\n",
    "    \"models\",\n",
    "    \"utils\"\n",
    "]\n",
    "\n",
    "# Create folders\n",
    "for folder in folders:\n",
    "    os.makedirs(folder, exist_ok=True)\n",
    "\n",
    "# Create base files\n",
    "files = {\n",
    "    \"main.py\": \"\",\n",
    "    \"app.py\": \"\",\n",
    "    \"requirements.txt\": \"\",\n",
    "    \"README.md\": \"\",\n",
    "    \"notebook_demo.ipynb\": \"\"  # optional: if you want to reserve a file name\n",
    "}\n",
    "\n",
    "for file, content in files.items():\n",
    "    with open(file, \"w\") as f:\n",
    "        f.write(content)\n",
    "\n",
    "print(\"✅ Folder structure and base files created successfully!\")\n"
   ]
  },
  {
   "cell_type": "code",
   "execution_count": null,
   "id": "55a60319-5585-4854-b136-59c70f2381a0",
   "metadata": {},
   "outputs": [],
   "source": []
  }
 ],
 "metadata": {
  "kernelspec": {
   "display_name": "Python 3 (ipykernel)",
   "language": "python",
   "name": "python3"
  },
  "language_info": {
   "codemirror_mode": {
    "name": "ipython",
    "version": 3
   },
   "file_extension": ".py",
   "mimetype": "text/x-python",
   "name": "python",
   "nbconvert_exporter": "python",
   "pygments_lexer": "ipython3",
   "version": "3.10.2"
  }
 },
 "nbformat": 4,
 "nbformat_minor": 5
}
